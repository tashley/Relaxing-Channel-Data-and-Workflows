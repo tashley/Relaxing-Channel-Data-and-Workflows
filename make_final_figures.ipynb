{
 "cells": [
  {
   "cell_type": "code",
   "execution_count": 11,
   "id": "f1940cf6",
   "metadata": {},
   "outputs": [],
   "source": [
    "import os\n",
    "import numpy as np\n",
    "import matplotlib.pyplot as plt"
   ]
  },
  {
   "cell_type": "code",
   "execution_count": 12,
   "id": "1cb31b99",
   "metadata": {},
   "outputs": [],
   "source": [
    "folder = os.path.join('example_data', 'final_data')\n",
    "Z = np.load(os.path.join(folder, 'elevation.npy'))\n",
    "t_Z = np.load(os.path.join(folder, 'elevation_t.npy'))\n",
    "W = np.load(os.path.join(folder, 'width.npy'))\n",
    "t_W = np.load(os.path.join(folder, 'width_t.npy'))"
   ]
  },
  {
   "cell_type": "code",
   "execution_count": 14,
   "id": "dbad884b",
   "metadata": {},
   "outputs": [
    {
     "data": {
      "text/plain": [
       "(102, 120, 268)"
      ]
     },
     "execution_count": 14,
     "metadata": {},
     "output_type": "execute_result"
    }
   ],
   "source": [
    "Z.shape"
   ]
  },
  {
   "cell_type": "code",
   "execution_count": 30,
   "id": "b48def28",
   "metadata": {},
   "outputs": [
    {
     "data": {
      "text/plain": [
       "[<matplotlib.lines.Line2D at 0x1bdd87308e0>]"
      ]
     },
     "execution_count": 30,
     "metadata": {},
     "output_type": "execute_result"
    },
    {
     "data": {
      "image/png": "[encoded data removed]",
      "text/plain": [
       "<Figure size 432x288 with 1 Axes>"
      ]
     },
     "metadata": {
      "needs_background": "light"
     },
     "output_type": "display_data"
    }
   ],
   "source": [
    "fig, ax = plt.subplots()\n",
    "vol = np.array([np.nansum(Z[i]) for i in range(Z.shape[0])])\n",
    "ax.plot((t_Z[:-1]+t_Z[1:])/2, -np.diff(vol)/np.diff(t_Z))\n",
    "\n",
    "ax.set_xlim(0, 1.2e6)\n",
    "ax.set_ylim(-1, 25)\n",
    "ax.plot([0, 1.2e6], [0,0], 'k')"
   ]
  },
  {
   "cell_type": "code",
   "execution_count": null,
   "id": "fc0e073f",
   "metadata": {},
   "outputs": [],
   "source": []
  }
 ],
 "metadata": {
  "kernelspec": {
   "display_name": "Python 3 (ipykernel)",
   "language": "python",
   "name": "python3"
  },
  "language_info": {
   "codemirror_mode": {
    "name": "ipython",
    "version": 3
   },
   "file_extension": ".py",
   "mimetype": "text/x-python",
   "name": "python",
   "nbconvert_exporter": "python",
   "pygments_lexer": "ipython3",
   "version": "3.9.7"
  }
 },
 "nbformat": 4,
 "nbformat_minor": 5
}
