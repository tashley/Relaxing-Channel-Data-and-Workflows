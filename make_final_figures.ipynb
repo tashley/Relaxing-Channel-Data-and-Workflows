{
 "cells": [
  {
   "cell_type": "code",
   "execution_count": 11,
   "id": "5a187419",
   "metadata": {},
   "outputs": [],
   "source": [
    "import os\n",
    "import numpy as np\n",
    "import matplotlib.pyplot as plt\n",
    "\n",
    "folder = os.path.join('example_data', 'final_data')"
   ]
  },
  {
   "cell_type": "code",
   "execution_count": 161,
   "id": "66434e20",
   "metadata": {},
   "outputs": [],
   "source": [
    "Zdat = np.load(os.path.join(folder, 'elevation.npy'))\n",
    "t_Z = np.load(os.path.join(folder, 'elevation_t.npy'))\n",
    "Wdat = np.load(os.path.join(folder, 'width.npy'))\n",
    "t_W = np.load(os.path.join(folder, 'width_t.npy'))\n",
    "x_W = (np.arange(Wdat.shape[1])+0.5)/10\n",
    "\n",
    "Zsum = np.nansum(Z, axis=1)\n",
    "Vsand = np.cumsum(Zsum, axis=1) * 0.65 * 1e-6\n",
    "\n",
    "#skip doubled scans\n",
    "ixdrop = np.argwhere(np.diff(t_Z)[1:] - (np.diff(t_Z[:-1]) - 100) < 0).ravel()+1\n",
    "ixkeep = np.delete(np.arange(len(t_Z)), ixdrop)\n",
    "\n",
    "t_Z = t_Z[ixkeep]\n",
    "Vsand = Vsand[ixkeep, :]\n",
    "\n",
    "# skip additional scans\n",
    "#ixkeep = np.array([0, 1, 2, 4, 5, 7, 9, 12, 15, 20, 25, 32, 41, 49, 69, 77, 87])\n",
    "#t_Z2 = t_Z1[ixkeep]\n",
    "#Vsand2 = Vsand1[ixkeep, :]\n",
    "\n",
    "dv = np.diff(Vsand, axis=0)\n",
    "dt = np.diff(t_Z)\n",
    "dvdt = np.array([dv[i,:]/dt[i] for i in range(len(dt))])\n",
    "t = (t_Z[:-1] * t_Z[1:])**(1/2)\n",
    "\n",
    "p = 0.35\n",
    "Qdat = (1/(1-p)) * -dvdt"
   ]
  },
  {
   "cell_type": "code",
   "execution_count": 185,
   "id": "0f46daa2",
   "metadata": {},
   "outputs": [],
   "source": [
    "xres = 10 # cm\n",
    "xbnds = np.arange((fluxdat.shape[1]//xres)+1) * xres\n",
    "x = xbnds[1:]\n",
    "\n",
    "xin_W, tin_W = np.meshgrid(x_W, t_W)\n",
    "xout, tout = np.meshgrid(x, t)"
   ]
  },
  {
   "cell_type": "code",
   "execution_count": 199,
   "id": "52c68955",
   "metadata": {},
   "outputs": [
    {
     "name": "stderr",
     "output_type": "stream",
     "text": [
      "C:\\Users\\tashl\\AppData\\Local\\Temp/ipykernel_22196/3233548877.py:6: RuntimeWarning: Mean of empty slice\n",
      "  W[i,j] = np.nanmean(Wdat[(tin_W>t_Z[i]) & (tin_W<t_Z[i+1]) & (xin_W>xbnds[j]) & (xin_W<xbnds[j+1])])\n"
     ]
    }
   ],
   "source": [
    "Qx = np.empty(tout.shape)\n",
    "W = np.empty(tout.shape)\n",
    "for i in range(tout.shape[0]):\n",
    "    for j in range(tout.shape[1]):\n",
    "        Qx[i,j] = Qdat[i, j*xres]\n",
    "        W[i,j] = np.nanmean(Wdat[(tin_W>t_Z[i]) & (tin_W<t_Z[i+1]) & (xin_W>xbnds[j]) & (xin_W<xbnds[j+1])])\n",
    "        "
   ]
  },
  {
   "cell_type": "code",
   "execution_count": 205,
   "id": "bf2446e5",
   "metadata": {},
   "outputs": [
    {
     "data": {
      "text/plain": [
       "(87, 26)"
      ]
     },
     "execution_count": 205,
     "metadata": {},
     "output_type": "execute_result"
    }
   ],
   "source": [
    "Qx.shape"
   ]
  },
  {
   "cell_type": "code",
   "execution_count": null,
   "id": "a12c6401",
   "metadata": {},
   "outputs": [],
   "source": []
  }
 ],
 "metadata": {
  "kernelspec": {
   "display_name": "Python 3 (ipykernel)",
   "language": "python",
   "name": "python3"
  },
  "language_info": {
   "codemirror_mode": {
    "name": "ipython",
    "version": 3
   },
   "file_extension": ".py",
   "mimetype": "text/x-python",
   "name": "python",
   "nbconvert_exporter": "python",
   "pygments_lexer": "ipython3",
   "version": "3.9.7"
  }
 },
 "nbformat": 4,
 "nbformat_minor": 5
}
