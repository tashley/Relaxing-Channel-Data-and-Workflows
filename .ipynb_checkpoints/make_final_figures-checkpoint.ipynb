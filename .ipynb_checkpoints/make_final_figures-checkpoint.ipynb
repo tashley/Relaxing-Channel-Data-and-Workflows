{
 "cells": [
  {
   "cell_type": "code",
   "execution_count": 3,
   "id": "fec6e25a",
   "metadata": {},
   "outputs": [],
   "source": [
    "import os\n",
    "import numpy as np"
   ]
  },
  {
   "cell_type": "code",
   "execution_count": 7,
   "id": "6c5af559",
   "metadata": {},
   "outputs": [],
   "source": [
    "folder = os.path.join('example_data', 'final_data')\n",
    "Z = np.load(os.path.join(folder, 'elevation.npy'))\n",
    "t_Z = np.load(os.path.join(folder, 'elevation_t.npy'))\n",
    "W = np.load(os.path.join(folder, 'width.npy'))\n",
    "t_W = np.load(os.path.join(folder, 'width_t.npy'))"
   ]
  },
  {
   "cell_type": "code",
   "execution_count": 9,
   "id": "bd284016",
   "metadata": {},
   "outputs": [
    {
     "data": {
      "text/plain": [
       "array([0.000000e+00, 1.200000e+02, 2.229000e+03, 4.343000e+03,\n",
       "       6.455000e+03, 8.571000e+03, 1.068000e+04, 1.278900e+04,\n",
       "       1.489800e+04, 1.701300e+04, 1.753300e+04, 1.964800e+04,\n",
       "       2.176200e+04, 2.387000e+04, 2.598000e+04, 2.810400e+04,\n",
       "       3.021600e+04, 3.234600e+04, 3.446700e+04, 3.657700e+04,\n",
       "       3.869500e+04, 4.081100e+04, 4.293000e+04, 4.505500e+04,\n",
       "       4.716400e+04, 4.927600e+04, 5.139300e+04, 5.351100e+04,\n",
       "       5.562000e+04, 5.773800e+04, 5.976600e+04, 6.187900e+04,\n",
       "       6.399600e+04, 6.610600e+04, 6.822900e+04, 7.033700e+04,\n",
       "       7.245200e+04, 7.457000e+04, 7.668400e+04, 7.879500e+04,\n",
       "       8.090900e+04, 8.302400e+04, 8.455200e+04, 9.206600e+04,\n",
       "       9.957900e+04, 1.070940e+05, 1.146170e+05, 1.221280e+05,\n",
       "       1.296370e+05, 1.371480e+05, 1.446580e+05, 1.469680e+05,\n",
       "       1.544800e+05, 1.619900e+05, 1.695000e+05, 1.770100e+05,\n",
       "       1.845200e+05, 1.920290e+05, 1.995390e+05, 2.070490e+05,\n",
       "       2.145590e+05, 2.220690e+05, 2.295790e+05, 2.363870e+05,\n",
       "       2.655330e+05, 2.946520e+05, 3.237680e+05, 3.295840e+05,\n",
       "       3.586990e+05, 3.878160e+05, 4.079660e+05, 4.370830e+05,\n",
       "       4.662240e+05, 4.953580e+05, 5.022710e+05, 5.314250e+05,\n",
       "       5.605640e+05, 5.887900e+05, 6.179370e+05, 6.470550e+05,\n",
       "       6.761720e+05, 6.926470e+05, 7.217660e+05, 7.508950e+05,\n",
       "       7.524040e+05, 7.815340e+05, 8.106660e+05, 8.397940e+05,\n",
       "       8.689100e+05, 8.980260e+05, 9.271420e+05, 9.531200e+05,\n",
       "       9.822370e+05, 1.011352e+06, 1.021661e+06, 1.050778e+06,\n",
       "       1.079894e+06, 1.108715e+06, 1.137833e+06, 1.166948e+06,\n",
       "       1.191777e+06, 1.220894e+06])"
      ]
     },
     "execution_count": 9,
     "metadata": {},
     "output_type": "execute_result"
    }
   ],
   "source": []
  }
 ],
 "metadata": {
  "kernelspec": {
   "display_name": "Python 3 (ipykernel)",
   "language": "python",
   "name": "python3"
  },
  "language_info": {
   "codemirror_mode": {
    "name": "ipython",
    "version": 3
   },
   "file_extension": ".py",
   "mimetype": "text/x-python",
   "name": "python",
   "nbconvert_exporter": "python",
   "pygments_lexer": "ipython3",
   "version": "3.9.7"
  }
 },
 "nbformat": 4,
 "nbformat_minor": 5
}
